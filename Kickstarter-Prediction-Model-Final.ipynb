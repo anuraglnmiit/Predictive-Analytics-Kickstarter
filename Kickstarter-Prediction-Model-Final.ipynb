{
 "cells": [
  {
   "cell_type": "markdown",
   "metadata": {},
   "source": [
    "# Problem Statement\n",
    "\n",
    "Kickstarter is a popular crowdfunding platform. In the exploratory analysis previously done the factors affecting the success of a crowdfunding campaign. Here the goal is to predict if a kickstarter project will be successful or will fail before its actual deadline."
   ]
  },
  {
   "cell_type": "code",
   "execution_count": null,
   "metadata": {},
   "outputs": [],
   "source": [
    "#Setting up required libraries and packages"
   ]
  },
  {
   "cell_type": "code",
   "execution_count": null,
   "metadata": {},
   "outputs": [],
   "source": [
    "import numpy as np\n",
    "import pandas as pd\n",
    "import os\n",
    "from datetime import datetime\n",
    "import time\n",
    "from sklearn.model_selection import train_test_split\n",
    "from sklearn.linear_model import LogisticRegression\n",
    "from sklearn import preprocessing\n",
    "from sklearn.ensemble import RandomForestClassifier\n",
    "from sklearn.metrics import accuracy_score\n",
    "from sklearn.metrics import confusion_matrix\n",
    "from sklearn.metrics import roc_auc_score\n",
    "from sklearn.metrics import classification_report\n",
    "from sklearn import preprocessing\n",
    "import string"
   ]
  },
  {
   "cell_type": "markdown",
   "metadata": {},
   "source": [
    "# Data Overview\n",
    "\n",
    "There are a combined data of 700,000+ projects from two data sources.\n",
    "Below is the brief summary of the explanatory variables\n",
    "\n",
    "ID                :  It is the unique identifier for a project.\n",
    "\n",
    "Name              :  Name of the project seeking crowdfunding.\n",
    "\n",
    "Category          :  Category in which the project falls\n",
    "\n",
    "Main Category     :  The high level category on which the project falls\n",
    "\n",
    "Currency          :  Self - Explanatory.\n",
    "\n",
    "Deadline          :  The date by which the project tends to seek crowdfunding for the campaign. \n",
    "\n",
    "Goal              :  Amount the crowdfunding campaign seeks for itself.\n",
    "\n",
    "Launched          :  The date on which the project is launched.\n",
    "\n",
    "Pledged           :  The amount that was pledged by the backers of the campaign.\n",
    "\n",
    "State             :  The final state, determining whether the project was successful, unsuccessful, cancelled or failed.\n",
    "\n",
    "Backers           :  The count of the number of users backing the project.\n",
    "\n",
    "Country           :  The country of origination\n",
    "\n",
    "USD Pledged       :  The amount in US Dollor pledged for the project."
   ]
  },
  {
   "cell_type": "code",
   "execution_count": 9,
   "metadata": {},
   "outputs": [
    {
     "name": "stderr",
     "output_type": "stream",
     "text": [
      "C:\\ProgramData\\Anaconda3\\lib\\site-packages\\IPython\\core\\interactiveshell.py:2785: DtypeWarning: Columns (13,14,15) have mixed types. Specify dtype option on import or set low_memory=False.\n",
      "  interactivity=interactivity, compiler=compiler, result=result)\n"
     ]
    }
   ],
   "source": [
    "# Importing Data\n",
    "df_kick_201801 = pd.read_csv(\"ks-projects-201801.csv\",encoding = \"utf-8\")\n",
    "df_kick_201612 = pd.read_csv(\"ks-projects-201612.csv\",encoding = \"utf-8\")"
   ]
  },
  {
   "cell_type": "markdown",
   "metadata": {},
   "source": [
    "Checking the structure of the of the two datasets"
   ]
  },
  {
   "cell_type": "code",
   "execution_count": 16,
   "metadata": {},
   "outputs": [
    {
     "name": "stdout",
     "output_type": "stream",
     "text": [
      "(378661, 15)\n",
      "(323750, 17)\n"
     ]
    }
   ],
   "source": [
    "print(df_kick_201801.shape)\n",
    "print(df_kick_201612.shape)"
   ]
  },
  {
   "cell_type": "markdown",
   "metadata": {},
   "source": [
    "Checking the relevant columns and merge the two datasets"
   ]
  },
  {
   "cell_type": "code",
   "execution_count": null,
   "metadata": {},
   "outputs": [],
   "source": [
    "df_kick_201612_Workset=df_kick_201612.iloc[:,0:12]\n",
    "df_kick_201801_Workset=df_kick_201801.iloc[:,0:12]\n",
    "df_kick_main = df_kick_201612_Workset.append(df_kick_201801_Workset)"
   ]
  },
  {
   "cell_type": "code",
   "execution_count": null,
   "metadata": {},
   "outputs": [],
   "source": []
  }
 ],
 "metadata": {
  "kernelspec": {
   "display_name": "Python 3",
   "language": "python",
   "name": "python3"
  },
  "language_info": {
   "codemirror_mode": {
    "name": "ipython",
    "version": 3
   },
   "file_extension": ".py",
   "mimetype": "text/x-python",
   "name": "python",
   "nbconvert_exporter": "python",
   "pygments_lexer": "ipython3",
   "version": "3.7.0"
  }
 },
 "nbformat": 4,
 "nbformat_minor": 2
}
