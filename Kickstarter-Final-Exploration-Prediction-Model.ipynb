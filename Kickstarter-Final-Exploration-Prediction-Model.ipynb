{
 "cells": [
  {
   "cell_type": "markdown",
   "metadata": {},
   "source": [
    "# Problem Statement\n",
    "\n",
    "Kickstarter is a popular crowdfunding platform where users can raise funding for their projects. In the exploratory analysis previously done the factors affecting the success of a crowdfunding campaign. Here the goal is to predict if a kickstarter project will be successful or will fail before its actual deadline."
   ]
  },
  {
   "cell_type": "code",
   "execution_count": 7,
   "metadata": {},
   "outputs": [],
   "source": [
    "#Setting up required libraries and packages"
   ]
  },
  {
   "cell_type": "code",
   "execution_count": 8,
   "metadata": {},
   "outputs": [
    {
     "name": "stderr",
     "output_type": "stream",
     "text": [
      "C:\\ProgramData\\Anaconda3\\lib\\site-packages\\sklearn\\ensemble\\weight_boosting.py:29: DeprecationWarning: numpy.core.umath_tests is an internal NumPy module and should not be imported. It will be removed in a future NumPy release.\n",
      "  from numpy.core.umath_tests import inner1d\n"
     ]
    },
    {
     "data": {
      "text/html": [
       "<script type=\"text/javascript\">window.PlotlyConfig = {MathJaxConfig: 'local'};</script><script type=\"text/javascript\">if (window.MathJax) {MathJax.Hub.Config({SVG: {font: \"STIX-Web\"}});}</script><script>requirejs.config({paths: { 'plotly': ['https://cdn.plot.ly/plotly-latest.min']},});if(!window._Plotly) {require(['plotly'],function(plotly) {window._Plotly=plotly;});}</script>"
      ],
      "text/vnd.plotly.v1+html": [
       "<script type=\"text/javascript\">window.PlotlyConfig = {MathJaxConfig: 'local'};</script><script type=\"text/javascript\">if (window.MathJax) {MathJax.Hub.Config({SVG: {font: \"STIX-Web\"}});}</script><script>requirejs.config({paths: { 'plotly': ['https://cdn.plot.ly/plotly-latest.min']},});if(!window._Plotly) {require(['plotly'],function(plotly) {window._Plotly=plotly;});}</script>"
      ]
     },
     "metadata": {},
     "output_type": "display_data"
    }
   ],
   "source": [
    "import numpy as np\n",
    "import pandas as pd\n",
    "import os\n",
    "from datetime import datetime\n",
    "import time\n",
    "from sklearn.model_selection import train_test_split\n",
    "from sklearn.linear_model import LogisticRegression\n",
    "from sklearn import preprocessing\n",
    "from sklearn.ensemble import RandomForestClassifier\n",
    "from sklearn.metrics import accuracy_score\n",
    "from sklearn.metrics import confusion_matrix\n",
    "from sklearn.metrics import roc_auc_score\n",
    "from sklearn.metrics import classification_report\n",
    "from sklearn import preprocessing\n",
    "import string\n",
    "import seaborn as sns\n",
    "import matplotlib.pyplot as plt\n",
    "import plotly.tools as tls\n",
    "import plotly.offline as py\n",
    "from plotly.offline import init_notebook_mode, iplot, plot\n",
    "import plotly.graph_objs as go\n",
    "init_notebook_mode(connected=True)\n",
    "import warnings\n",
    "from collections import Counter"
   ]
  },
  {
   "cell_type": "markdown",
   "metadata": {},
   "source": [
    "# Data Overview\n",
    "\n",
    "There are a combined data of 700,000+ projects from two data sources.\n",
    "Below is the brief summary of the explanatory variables\n",
    "\n",
    "ID                :  It is the unique identifier for a project.\n",
    "\n",
    "Name              :  Name of the project seeking crowdfunding.\n",
    "\n",
    "Category          :  Category in which the project falls\n",
    "\n",
    "Main Category     :  The high level category on which the project falls\n",
    "\n",
    "Currency          :  Self - Explanatory.\n",
    "\n",
    "Deadline          :  The date by which the project tends to seek crowdfunding for the campaign. \n",
    "\n",
    "Goal              :  Amount the crowdfunding campaign seeks for itself.\n",
    "\n",
    "Launched          :  The date on which the project is launched.\n",
    "\n",
    "Pledged           :  The amount that was pledged by the backers of the campaign.\n",
    "\n",
    "State             :  The final state, determining whether the project was successful, unsuccessful, cancelled or failed.\n",
    "\n",
    "Backers           :  The count of the number of users backing the project.\n",
    "\n",
    "Country           :  The country of origination\n",
    "\n",
    "USD Pledged       :  The amount in US Dollor pledged for the project."
   ]
  },
  {
   "cell_type": "code",
   "execution_count": 9,
   "metadata": {},
   "outputs": [],
   "source": [
    "# Importing Data\n",
    "df_kick_201801 = pd.read_csv(\"ks-projects-201801.csv\",encoding = \"utf-8\",low_memory=False)\n",
    "df_kick_201612 = pd.read_csv(\"ks-projects-201612.csv\",encoding = \"utf-8\",low_memory=False)"
   ]
  },
  {
   "cell_type": "markdown",
   "metadata": {},
   "source": [
    "Checking the structure of the of the two datasets"
   ]
  },
  {
   "cell_type": "code",
   "execution_count": 10,
   "metadata": {},
   "outputs": [
    {
     "name": "stdout",
     "output_type": "stream",
     "text": [
      "(378661, 15)\n",
      "(323750, 17)\n"
     ]
    }
   ],
   "source": [
    "print(df_kick_201801.shape)\n",
    "print(df_kick_201612.shape)"
   ]
  },
  {
   "cell_type": "markdown",
   "metadata": {},
   "source": [
    "Checking the relevant columns and merge the two datasets,\n",
    "df_kick_main is the main workset for the analysis"
   ]
  },
  {
   "cell_type": "code",
   "execution_count": 11,
   "metadata": {},
   "outputs": [],
   "source": [
    "#df_kick_201612_Workset=df_kick_201612.iloc[:,0:12]\n",
    "df_kick_main=df_kick_201801.iloc[:,0:12]\n",
    "#df_kick_main = df_kick_201612_Workset.append(df_kick_201801_Workset)"
   ]
  },
  {
   "cell_type": "markdown",
   "metadata": {},
   "source": [
    "Aggregated Dataset"
   ]
  },
  {
   "cell_type": "code",
   "execution_count": 12,
   "metadata": {},
   "outputs": [
    {
     "name": "stdout",
     "output_type": "stream",
     "text": [
      "<class 'pandas.core.frame.DataFrame'>\n",
      "RangeIndex: 378661 entries, 0 to 378660\n",
      "Data columns (total 12 columns):\n",
      "ID               378661 non-null int64\n",
      "name             378657 non-null object\n",
      "category         378661 non-null object\n",
      "main_category    378661 non-null object\n",
      "currency         378661 non-null object\n",
      "deadline         378661 non-null object\n",
      "goal             378661 non-null float64\n",
      "launched         378661 non-null object\n",
      "pledged          378661 non-null float64\n",
      "state            378661 non-null object\n",
      "backers          378661 non-null int64\n",
      "country          378661 non-null object\n",
      "dtypes: float64(2), int64(2), object(8)\n",
      "memory usage: 34.7+ MB\n"
     ]
    }
   ],
   "source": [
    "df_kick_main.shape\n",
    "df_kick_main.info()"
   ]
  },
  {
   "cell_type": "markdown",
   "metadata": {},
   "source": [
    "Segregating the variables as categorical and constinuous"
   ]
  },
  {
   "cell_type": "code",
   "execution_count": 13,
   "metadata": {},
   "outputs": [],
   "source": [
    "df_kick_main.columns = ['ID','name','category','main_category','currency','deadline','goal','launched','pledged','state','backers','country']\n",
    "\n",
    "ks_cat_vars=[ 'category', 'main_category', 'currency','country']\n",
    "ks_cont_vars=['goal', 'pledged', 'backers','pledged']"
   ]
  },
  {
   "cell_type": "markdown",
   "metadata": {},
   "source": [
    "Checking correlation among the continous variables defined above. It can be seen that pledged (USD amount) and backers have high correlation > 0.75. It is expected behavior as more backers would mean more amount pledged.\n"
   ]
  },
  {
   "cell_type": "code",
   "execution_count": 65,
   "metadata": {},
   "outputs": [],
   "source": [
    "#df_kick_main[ks_cont_vars]"
   ]
  },
  {
   "cell_type": "code",
   "execution_count": 66,
   "metadata": {},
   "outputs": [
    {
     "data": {
      "text/plain": [
       "<matplotlib.image.AxesImage at 0x21de43b5128>"
      ]
     },
     "execution_count": 66,
     "metadata": {},
     "output_type": "execute_result"
    },
    {
     "data": {
      "image/png": "[encoded data removed]",
      "text/plain": [
       "<Figure size 288x288 with 1 Axes>"
      ]
     },
     "metadata": {
      "needs_background": "light"
     },
     "output_type": "display_data"
    }
   ],
   "source": [
    "import matplotlib.pyplot as plt\n",
    "\n",
    "plt.matshow(df_kick_main[ks_cont_vars].corr())"
   ]
  },
  {
   "cell_type": "markdown",
   "metadata": {},
   "source": [
    "Filtering only for successful and failed projects for subsequent EDA"
   ]
  },
  {
   "cell_type": "code",
   "execution_count": 16,
   "metadata": {},
   "outputs": [
    {
     "name": "stdout",
     "output_type": "stream",
     "text": [
      "(331675, 12)\n"
     ]
    },
    {
     "name": "stderr",
     "output_type": "stream",
     "text": [
      "C:\\ProgramData\\Anaconda3\\lib\\site-packages\\ipykernel_launcher.py:3: SettingWithCopyWarning:\n",
      "\n",
      "\n",
      "A value is trying to be set on a copy of a slice from a DataFrame.\n",
      "Try using .loc[row_indexer,col_indexer] = value instead\n",
      "\n",
      "See the caveats in the documentation: http://pandas.pydata.org/pandas-docs/stable/indexing.html#indexing-view-versus-copy\n",
      "\n"
     ]
    }
   ],
   "source": [
    "kick_projects = df_kick_main[(df_kick_main['state'] == 'failed') | (df_kick_main['state'] == 'successful')]\n",
    "#converting 'successful' state to 1 and failed to 0\n",
    "kick_projects['state'] = (kick_projects['state'] =='successful').astype(int)\n",
    "print(kick_projects.shape)"
   ]
  },
  {
   "cell_type": "code",
   "execution_count": 17,
   "metadata": {},
   "outputs": [
    {
     "data": {
      "text/plain": [
       "main_category  state\n",
       "Art            0        14131\n",
       "               1        11510\n",
       "Comics         0         4036\n",
       "               1         5842\n",
       "Crafts         0         5703\n",
       "               1         2115\n",
       "Dance          0         1235\n",
       "               1         2338\n",
       "Design         0        14814\n",
       "               1        10550\n",
       "Fashion        0        14182\n",
       "               1         5593\n",
       "Film & Video   0        32904\n",
       "               1        23623\n",
       "Food           0        15969\n",
       "               1         6085\n",
       "Games          0        16003\n",
       "               1        12518\n",
       "Journalism     0         3137\n",
       "               1         1012\n",
       "Music          0        21752\n",
       "               1        24197\n",
       "Photography    0         6384\n",
       "               1         3305\n",
       "Publishing     0        23145\n",
       "               1        12300\n",
       "Technology     0        20616\n",
       "               1         6434\n",
       "Theater        0         3708\n",
       "               1         6534\n",
       "dtype: int64"
      ]
     },
     "execution_count": 17,
     "metadata": {},
     "output_type": "execute_result"
    }
   ],
   "source": [
    "#checking distribution of projects across various main categories\n",
    "kick_projects.groupby(['main_category','state']).size()\n",
    "#kick_projects.groupby(['category','state']).size()"
   ]
  },
  {
   "cell_type": "markdown",
   "metadata": {},
   "source": [
    "To visualise the distribution of the original states, the original dataset is used 'df_kick_main' is used.\n",
    "To make more sense of the state distributions the percentages of the states are visualised."
   ]
  },
  {
   "cell_type": "code",
   "execution_count": 18,
   "metadata": {},
   "outputs": [
    {
     "name": "stdout",
     "output_type": "stream",
     "text": [
      "State Percentual in %: \n",
      "failed        52.22\n",
      "successful    35.38\n",
      "canceled      10.24\n",
      "undefined      0.94\n",
      "live           0.74\n",
      "suspended      0.49\n",
      "Name: state, dtype: float64\n"
     ]
    },
    {
     "data": {
      "application/vnd.plotly.v1+json": {
       "config": {
        "linkText": "Export to plot.ly",
        "plotlyServerURL": "https://plot.ly",
        "showLink": false
       },
       "data": [
        {
         "labels": [
          "failed",
          "successful",
          "canceled",
          "undefined",
          "live",
          "suspended"
         ],
         "marker": {
          "colors": [
           "red"
          ]
         },
         "type": "pie",
         "uid": "c95a0ccc-aa79-402e-8cc5-da0b4a3bcc7d",
         "values": [
          52.22,
          35.38,
          10.24,
          0.94,
          0.74,
          0.49
         ]
        }
       ],
       "layout": {
        "legend": {
         "orientation": "h"
        },
        "title": {
         "text": "Distribuition of States"
        }
       }
      },
      "text/html": [
       "<div id=\"354055ed-d15b-45ef-8643-0c0210991159\" style=\"height: 525px; width: 100%;\" class=\"plotly-graph-div\"></div><script type=\"text/javascript\">require([\"plotly\"], function(Plotly) { window.PLOTLYENV=window.PLOTLYENV || {};window.PLOTLYENV.BASE_URL=\"https://plot.ly\";Plotly.newPlot(\"354055ed-d15b-45ef-8643-0c0210991159\", [{\"labels\": [\"failed\", \"successful\", \"canceled\", \"undefined\", \"live\", \"suspended\"], \"marker\": {\"colors\": [\"red\"]}, \"values\": [52.22, 35.38, 10.24, 0.94, 0.74, 0.49], \"type\": \"pie\", \"uid\": \"c95a0ccc-aa79-402e-8cc5-da0b4a3bcc7d\"}], {\"legend\": {\"orientation\": \"h\"}, \"title\": {\"text\": \"Distribuition of States\"}}, {\"showLink\": false, \"linkText\": \"Export to plot.ly\", \"plotlyServerURL\": \"https://plot.ly\"})});</script><script type=\"text/javascript\">window.addEventListener(\"resize\", function(){window._Plotly.Plots.resize(document.getElementById(\"354055ed-d15b-45ef-8643-0c0210991159\"));});</script>"
      ],
      "text/vnd.plotly.v1+html": [
       "<div id=\"354055ed-d15b-45ef-8643-0c0210991159\" style=\"height: 525px; width: 100%;\" class=\"plotly-graph-div\"></div><script type=\"text/javascript\">require([\"plotly\"], function(Plotly) { window.PLOTLYENV=window.PLOTLYENV || {};window.PLOTLYENV.BASE_URL=\"https://plot.ly\";Plotly.newPlot(\"354055ed-d15b-45ef-8643-0c0210991159\", [{\"labels\": [\"failed\", \"successful\", \"canceled\", \"undefined\", \"live\", \"suspended\"], \"marker\": {\"colors\": [\"red\"]}, \"values\": [52.22, 35.38, 10.24, 0.94, 0.74, 0.49], \"type\": \"pie\", \"uid\": \"c95a0ccc-aa79-402e-8cc5-da0b4a3bcc7d\"}], {\"legend\": {\"orientation\": \"h\"}, \"title\": {\"text\": \"Distribuition of States\"}}, {\"showLink\": false, \"linkText\": \"Export to plot.ly\", \"plotlyServerURL\": \"https://plot.ly\"})});</script><script type=\"text/javascript\">window.addEventListener(\"resize\", function(){window._Plotly.Plots.resize(document.getElementById(\"354055ed-d15b-45ef-8643-0c0210991159\"));});</script>"
      ]
     },
     "metadata": {},
     "output_type": "display_data"
    }
   ],
   "source": [
    "percentual_sucess = round(df_kick_main[\"state\"].value_counts() / len(df_kick_main[\"state\"]) * 100,2)\n",
    "\n",
    "print(\"State Percentual in %: \")\n",
    "print(percentual_sucess)\n",
    "\n",
    "state = round(df_kick_main[\"state\"].value_counts() / len(df_kick_main[\"state\"]) * 100,2)\n",
    "\n",
    "labels = list(state.index)\n",
    "values = list(state.values)\n",
    "\n",
    "trace1 = go.Pie(labels=labels, values=values, marker=dict(colors=['red']))\n",
    "\n",
    "layout = go.Layout(title='Distribuition of States', legend=dict(orientation=\"h\"));\n",
    "\n",
    "fig = go.Figure(data=[trace1], layout=layout)\n",
    "iplot(fig)"
   ]
  },
  {
   "cell_type": "markdown",
   "metadata": {},
   "source": [
    "In the subsequent three plots (in a defined gridline)\n",
    "The log scaled goal and pledged amount is plotted for both failed and sucessful projects"
   ]
  },
  {
   "cell_type": "code",
   "execution_count": 19,
   "metadata": {},
   "outputs": [
    {
     "name": "stdout",
     "output_type": "stream",
     "text": [
      "This is the format of your plot grid:\n",
      "[ (1,1) x1,y1           -      ]\n",
      "[ (2,1) x2,y2 ]  [ (2,2) x3,y3 ]\n",
      "\n"
     ]
    }
   ],
   "source": [
    "df_failed = df_kick_main[df_kick_main[\"state\"] == \"failed\"]\n",
    "df_sucess = df_kick_main[df_kick_main[\"state\"] == \"successful\"]\n",
    "\n",
    "#First plot\n",
    "trace0 = go.Histogram(\n",
    "    x= np.log(df_kick_main.goal + 1),\n",
    "    histnorm='probability', showlegend=False,\n",
    "    xbins=dict(\n",
    "        start=-5.0,\n",
    "        end=19.0,\n",
    "        size=1),\n",
    "    autobiny=True)\n",
    "\n",
    "#Second plot\n",
    "trace1 = go.Histogram(\n",
    "    x = np.log(df_kick_main.pledged + 1),\n",
    "    histnorm='probability', showlegend=False,\n",
    "    xbins=dict(\n",
    "        start=-1.0,\n",
    "        end=17.0,\n",
    "        size=1))\n",
    "\n",
    "# Add histogram data\n",
    "x1 = np.log(df_failed['goal']+1)\n",
    "x2 = np.log(df_sucess[\"goal\"]+1)\n",
    "\n",
    "trace3 = go.Histogram(\n",
    "    x=x1,\n",
    "    opacity=0.60, nbinsx=30, name='Goals Failed', histnorm='probability'\n",
    ")\n",
    "trace4 = go.Histogram(\n",
    "    x=x2,\n",
    "    opacity=0.60, nbinsx=30, name='Goals Sucessful', histnorm='probability'\n",
    ")\n",
    "\n",
    "\n",
    "data = [trace0, trace1, trace3, trace4]\n",
    "layout = go.Layout(barmode='overlay')\n",
    "\n",
    "#Creating the grid\n",
    "fig = tls.make_subplots(rows=2, cols=2, specs=[ [{'colspan': 2}, None], [{}, {}]],\n",
    "                          subplot_titles=('Failed and Sucessful Projects',\n",
    "                                          'Goal','Pledged'))\n",
    "\n",
    "#setting the figs\n",
    "fig.append_trace(trace0, 2, 1)\n",
    "fig.append_trace(trace1, 2, 2)\n",
    "fig.append_trace(trace3, 1, 1)\n",
    "fig.append_trace(trace4, 1, 1)\n",
    "\n",
    "#fig['layout'].update(title=\"Distribuitions\",\n",
    " #                    height=500, width=900, barmode='overlay')\n",
    "#iplot(fig)"
   ]
  },
  {
   "cell_type": "markdown",
   "metadata": {},
   "source": [
    "#Feature Engineering\n",
    "\n",
    "The  below code snippet does the following:\n",
    "\n",
    "Part 1 : Extraction of components like year, month, hour from launch date.\n",
    "Part 2 : Extraction of components like year, month, time to deadline from deadline date.\n",
    "Part 3 : Calculating project duration"
   ]
  },
  {
   "cell_type": "code",
   "execution_count": 20,
   "metadata": {},
   "outputs": [],
   "source": [
    "df_kick_main['launched'] = pd.to_datetime(df_kick_main['launched'])\n",
    "df_kick_main['laun_month_year'] = df_kick_main['launched'].dt.to_period(\"M\")\n",
    "df_kick_main['laun_year'] = df_kick_main['launched'].dt.to_period(\"A\")\n",
    "df_kick_main['laun_hour'] = df_kick_main['launched'].dt.hour\n",
    "\n",
    "df_kick_main['deadline'] = pd.to_datetime(df_kick_main['deadline'])\n",
    "df_kick_main['dead_month_year'] = df_kick_main['deadline'].dt.to_period(\"M\")\n",
    "df_kick_main['dead_year'] = df_kick_main['launched'].dt.to_period(\"A\")\n",
    "\n",
    "\n",
    "#Creating a new columns with Campaign total months\n",
    "df_kick_main['time_campaign'] = df_kick_main['dead_month_year'] - df_kick_main['laun_month_year']\n",
    "df_kick_main['time_campaign'] = df_kick_main['time_campaign'].astype(int)"
   ]
  },
  {
   "cell_type": "markdown",
   "metadata": {},
   "source": [
    "The crucial piece of visualisation is how project duration affects the state of the project.\n",
    "The duration is calulated as time campaign above."
   ]
  },
  {
   "cell_type": "code",
   "execution_count": 21,
   "metadata": {},
   "outputs": [
    {
     "data": {
      "image/png": "[encoded data removed]",
      "text/plain": [
       "<Figure size 720x432 with 1 Axes>"
      ]
     },
     "metadata": {
      "needs_background": "light"
     },
     "output_type": "display_data"
    },
    {
     "name": "stdout",
     "output_type": "stream",
     "text": [
      "Descriptions of Campaign Time x State\n",
      "state          canceled  failed  live  successful  suspended  undefined\n",
      "time_campaign                                                          \n",
      "0                  2044   12276    62       12494        153        280\n",
      "1                 28144  144494  1785      102102       1251       2710\n",
      "2                  8132   38960   948       18240        433        570\n",
      "3                   453    1976     4        1117          8          2\n",
      "4                     0      13     0           3          0          0\n"
     ]
    }
   ],
   "source": [
    "plt.figure(figsize = (10,6))\n",
    "\n",
    "ax = sns.countplot(x='time_campaign', hue='state', \n",
    "                   data=df_kick_main[df_kick_main['time_campaign'] < 10])\n",
    "ax.set_title(\"Distribuition of Campaign Time by State\", fontsize=30)\n",
    "ax.set_xlabel(\"Campaign Total Months\", fontsize=20)\n",
    "ax.set_ylabel(\"Count\", fontsize=20)\n",
    "plt.show()\n",
    "\n",
    "print(\"Descriptions of Campaign Time x State\")\n",
    "print(pd.crosstab(df_kick_main[df_kick_main['time_campaign'] < 5]['time_campaign'], df_kick_main.state))"
   ]
  },
  {
   "cell_type": "code",
   "execution_count": 22,
   "metadata": {},
   "outputs": [
    {
     "name": "stderr",
     "output_type": "stream",
     "text": [
      "C:\\ProgramData\\Anaconda3\\lib\\site-packages\\scipy\\stats\\stats.py:1713: FutureWarning:\n",
      "\n",
      "Using a non-tuple sequence for multidimensional indexing is deprecated; use `arr[tuple(seq)]` instead of `arr[seq]`. In the future this will be interpreted as an array index, `arr[np.array(seq)]`, which will result either in an error or a different result.\n",
      "\n"
     ]
    },
    {
     "data": {
      "image/png": "[encoded data removed]",
      "text/plain": [
       "<Figure size 720x576 with 1 Axes>"
      ]
     },
     "metadata": {
      "needs_background": "light"
     },
     "output_type": "display_data"
    }
   ],
   "source": [
    "df_kick_main['backers_log'] = np.log(df_kick_main['backers'] + 1 ) \n",
    "\n",
    "plt.figure(figsize = (10,8))\n",
    "sns.distplot(df_kick_main['backers_log'])\n",
    "\n",
    "plt.show()"
   ]
  },
  {
   "cell_type": "markdown",
   "metadata": {},
   "source": [
    "Plotting density plot of log of backers count for the projects.\n",
    "This gives some idea how the backers for the project are distributed.\n",
    "1 is added to the backers count to take care of cases with zero backers (in the log term)"
   ]
  },
  {
   "cell_type": "code",
   "execution_count": 23,
   "metadata": {},
   "outputs": [],
   "source": [
    "#creating features from the project name\n",
    "\n",
    "#length of name\n",
    "df_kick_main['name_len'] = df_kick_main.name.str.len()\n",
    "\n",
    "# presence of !\n",
    "df_kick_main['name_exclaim'] = (df_kick_main.name.str[-1] == '!').astype(int)\n",
    "\n",
    "# presence of ?\n",
    "df_kick_main['name_question'] = (df_kick_main.name.str[-1] == '?').astype(int)\n",
    "\n",
    "# number of words in the name\n",
    "df_kick_main['name_words'] = df_kick_main.name.apply(lambda x: len(str(x).split(' ')))\n",
    "\n",
    "# if name is uppercase\n",
    "df_kick_main['name_is_upper'] = df_kick_main.name.str.isupper().astype(float)"
   ]
  },
  {
   "cell_type": "code",
   "execution_count": 42,
   "metadata": {},
   "outputs": [
    {
     "data": {
      "text/plain": [
       "(378661, 239)"
      ]
     },
     "execution_count": 42,
     "metadata": {},
     "output_type": "execute_result"
    }
   ],
   "source": [
    "#list(df_kick_main)\n",
    "df_kick_main.shape"
   ]
  },
  {
   "cell_type": "markdown",
   "metadata": {},
   "source": [
    "Engineering more features.\n",
    "1. Log of the goal binned into categories\n",
    "2. Percentile Bucket for goal.\n",
    "3. Percentile Bucket for duration"
   ]
  },
  {
   "cell_type": "code",
   "execution_count": 39,
   "metadata": {},
   "outputs": [],
   "source": [
    "# normalizing goal by applying log\n",
    "df_kick_main['goal_log'] = np.log1p(kick_projects.goal)\n",
    "#creating goal features to check what range goal lies in\n",
    "df_kick_main['Goal_10'] = kick_projects.goal.apply(lambda x: x // 10)\n",
    "df_kick_main['Goal_1000'] = kick_projects.goal.apply(lambda x: x // 1000)\n",
    "df_kick_main['Goal_100'] = kick_projects.goal.apply(lambda x: x // 100)\n",
    "df_kick_main['Goal_500'] = kick_projects.goal.apply(lambda x: x // 500)\n",
    "\n",
    "\n",
    "df_kick_main['goal_cat_perc'] =  df_kick_main.groupby(['category'])['goal'].transform(\n",
    "                     lambda x: pd.qcut(x, [0, .35, .70, 1.0], labels =[1,2,3]))\n",
    "\n",
    "df_kick_main['duration_cat_perc'] =  df_kick_main.groupby(['category'])['time_campaign'].transform(\n",
    "                     lambda x: pd.qcut(x, [0, .35, .70, 1.0], labels =False, duplicates='drop'))"
   ]
  },
  {
   "cell_type": "markdown",
   "metadata": {},
   "source": [
    "ONE HOT ENCODING OF CATEGORY COLUMNS"
   ]
  },
  {
   "cell_type": "code",
   "execution_count": 40,
   "metadata": {},
   "outputs": [
    {
     "name": "stdout",
     "output_type": "stream",
     "text": [
      "start one-hot encoding\n",
      "ADS dummy columns made\n"
     ]
    }
   ],
   "source": [
    "# One-Hot encoding to convert categorical columns to numeric\n",
    "print('start one-hot encoding')\n",
    "\n",
    "df_kick_main = pd.get_dummies(df_kick_main, prefix = [ 'category', 'main_category', 'currency','country'],\n",
    "                             columns = [ 'category', 'main_category', 'currency','country'])\n",
    "    \n",
    "#this will have created 1-0 flag columns (like a sparse matrix)    \n",
    "print('ADS dummy columns made')"
   ]
  },
  {
   "cell_type": "code",
   "execution_count": 43,
   "metadata": {},
   "outputs": [],
   "source": [
    "#list(df_kick_main)"
   ]
  },
  {
   "cell_type": "markdown",
   "metadata": {},
   "source": [
    "Building a random forest classifier.\n",
    "First prediction model, bagged tree based algorithm random forest. The algorithm here uses\n",
    "Gini coefficient to determine the optimality of the node split.\n",
    "The model trained tabulates the feature importance as a quantified measure. "
   ]
  },
  {
   "cell_type": "markdown",
   "metadata": {},
   "source": [
    "Importing libraries for random forest"
   ]
  },
  {
   "cell_type": "code",
   "execution_count": 45,
   "metadata": {},
   "outputs": [],
   "source": [
    "from sklearn.ensemble import RandomForestClassifier\n",
    "import math"
   ]
  },
  {
   "cell_type": "markdown",
   "metadata": {},
   "source": [
    "In this part the feature count of the random forest model is extracted and tuning parameters are given as an input.\n",
    "Also the dataset is split into train and test"
   ]
  },
  {
   "cell_type": "code",
   "execution_count": 55,
   "metadata": {},
   "outputs": [],
   "source": [
    "from sklearn.model_selection import train_test_split\n",
    "\n",
    "train, test = train_test_split(df_kick_main, test_size=0.2)\n"
   ]
  },
  {
   "cell_type": "markdown",
   "metadata": {},
   "source": [
    "Defining model parameters"
   ]
  },
  {
   "cell_type": "code",
   "execution_count": 48,
   "metadata": {},
   "outputs": [],
   "source": [
    "features_count = train_ind.shape[1]\n",
    "\n",
    "parameters_rf = {'n_estimators':[30], 'max_depth':[20], 'max_features': \n",
    "                     [math.floor(np.sqrt(features_count)), math.floor(features_count/3)]}\n"
   ]
  },
  {
   "cell_type": "markdown",
   "metadata": {},
   "source": [
    "Function to train the model with the pre-defined model parameters"
   ]
  },
  {
   "cell_type": "code",
   "execution_count": 62,
   "metadata": {},
   "outputs": [],
   "source": [
    "response=['state']\n",
    "features=['name',\n",
    " 'deadline',\n",
    " 'goal',\n",
    " 'launched',\n",
    " 'pledged',\n",
    " 'backers',\n",
    " 'laun_month_year',\n",
    " 'laun_year',\n",
    " 'laun_hour',\n",
    " 'dead_month_year',\n",
    " 'dead_year',\n",
    " 'time_campaign',\n",
    " 'backers_log',\n",
    " 'name_len',\n",
    " 'name_exclaim',\n",
    " 'name_question',\n",
    " 'name_words',\n",
    " 'name_is_upper',\n",
    " 'goal_log',\n",
    " 'Goal_10',\n",
    " 'Goal_1000',\n",
    " 'Goal_100',\n",
    " 'Goal_500',\n",
    " 'goal_reached',\n",
    " 'goal_cat_perc',\n",
    " 'duration_cat_perc',\n",
    " 'category_3D Printing',\n",
    " 'category_Academic',\n",
    " 'category_Accessories',\n",
    " 'category_Action',\n",
    " 'category_Animals',\n",
    " 'category_Animation',\n",
    " 'category_Anthologies',\n",
    " 'category_Apparel',\n",
    " 'category_Apps',\n",
    " 'category_Architecture',\n",
    " 'category_Art',\n",
    " 'category_Art Books',\n",
    " 'category_Audio',\n",
    " 'category_Bacon',\n",
    " 'category_Blues',\n",
    " 'category_Calendars',\n",
    " 'category_Camera Equipment',\n",
    " 'category_Candles',\n",
    " 'category_Ceramics',\n",
    " \"category_Children's Books\",\n",
    " 'category_Childrenswear',\n",
    " 'category_Chiptune',\n",
    " 'category_Civic Design',\n",
    " 'category_Classical Music',\n",
    " 'category_Comedy',\n",
    " 'category_Comic Books',\n",
    " 'category_Comics',\n",
    " 'category_Community Gardens',\n",
    " 'category_Conceptual Art',\n",
    " 'category_Cookbooks',\n",
    " 'category_Country & Folk',\n",
    " 'category_Couture',\n",
    " 'category_Crafts',\n",
    " 'category_Crochet',\n",
    " 'category_DIY',\n",
    " 'category_DIY Electronics',\n",
    " 'category_Dance',\n",
    " 'category_Design',\n",
    " 'category_Digital Art',\n",
    " 'category_Documentary',\n",
    " 'category_Drama',\n",
    " 'category_Drinks',\n",
    " 'category_Electronic Music',\n",
    " 'category_Embroidery',\n",
    " 'category_Events',\n",
    " 'category_Experimental',\n",
    " 'category_Fabrication Tools',\n",
    " 'category_Faith',\n",
    " 'category_Family',\n",
    " 'category_Fantasy',\n",
    " \"category_Farmer's Markets\",\n",
    " 'category_Farms',\n",
    " 'category_Fashion',\n",
    " 'category_Festivals',\n",
    " 'category_Fiction',\n",
    " 'category_Film & Video',\n",
    " 'category_Fine Art',\n",
    " 'category_Flight',\n",
    " 'category_Food',\n",
    " 'category_Food Trucks',\n",
    " 'category_Footwear',\n",
    " 'category_Gadgets',\n",
    " 'category_Games',\n",
    " 'category_Gaming Hardware',\n",
    " 'category_Glass',\n",
    " 'category_Graphic Design',\n",
    " 'category_Graphic Novels',\n",
    " 'category_Hardware',\n",
    " 'category_Hip-Hop',\n",
    " 'category_Horror',\n",
    " 'category_Illustration',\n",
    " 'category_Immersive',\n",
    " 'category_Indie Rock',\n",
    " 'category_Installations',\n",
    " 'category_Interactive Design',\n",
    " 'category_Jazz',\n",
    " 'category_Jewelry',\n",
    " 'category_Journalism',\n",
    " 'category_Kids',\n",
    " 'category_Knitting',\n",
    " 'category_Latin',\n",
    " 'category_Letterpress',\n",
    " 'category_Literary Journals',\n",
    " 'category_Literary Spaces',\n",
    " 'category_Live Games',\n",
    " 'category_Makerspaces',\n",
    " 'category_Metal',\n",
    " 'category_Mixed Media',\n",
    " 'category_Mobile Games',\n",
    " 'category_Movie Theaters',\n",
    " 'category_Music',\n",
    " 'category_Music Videos',\n",
    " 'category_Musical',\n",
    " 'category_Narrative Film',\n",
    " 'category_Nature',\n",
    " 'category_Nonfiction',\n",
    " 'category_Painting',\n",
    " 'category_People',\n",
    " 'category_Performance Art',\n",
    " 'category_Performances',\n",
    " 'category_Periodicals',\n",
    " 'category_Pet Fashion',\n",
    " 'category_Photo',\n",
    " 'category_Photobooks',\n",
    " 'category_Photography',\n",
    " 'category_Places',\n",
    " 'category_Playing Cards',\n",
    " 'category_Plays',\n",
    " 'category_Poetry',\n",
    " 'category_Pop',\n",
    " 'category_Pottery',\n",
    " 'category_Print',\n",
    " 'category_Printing',\n",
    " 'category_Product Design',\n",
    " 'category_Public Art',\n",
    " 'category_Publishing',\n",
    " 'category_Punk',\n",
    " 'category_Puzzles',\n",
    " 'category_Quilts',\n",
    " 'category_R&B',\n",
    " 'category_Radio & Podcasts',\n",
    " 'category_Ready-to-wear',\n",
    " 'category_Residencies',\n",
    " 'category_Restaurants',\n",
    " 'category_Robots',\n",
    " 'category_Rock',\n",
    " 'category_Romance',\n",
    " 'category_Science Fiction',\n",
    " 'category_Sculpture',\n",
    " 'category_Shorts',\n",
    " 'category_Small Batch',\n",
    " 'category_Software',\n",
    " 'category_Sound',\n",
    " 'category_Space Exploration',\n",
    " 'category_Spaces',\n",
    " 'category_Stationery',\n",
    " 'category_Tabletop Games',\n",
    " 'category_Taxidermy',\n",
    " 'category_Technology',\n",
    " 'category_Television',\n",
    " 'category_Textiles',\n",
    " 'category_Theater',\n",
    " 'category_Thrillers',\n",
    " 'category_Translations',\n",
    " 'category_Typography',\n",
    " 'category_Vegan',\n",
    " 'category_Video',\n",
    " 'category_Video Art',\n",
    " 'category_Video Games',\n",
    " 'category_Wearables',\n",
    " 'category_Weaving',\n",
    " 'category_Web',\n",
    " 'category_Webcomics',\n",
    " 'category_Webseries',\n",
    " 'category_Woodworking',\n",
    " 'category_Workshops',\n",
    " 'category_World Music',\n",
    " 'category_Young Adult',\n",
    " 'category_Zines',\n",
    " 'main_category_Art',\n",
    " 'main_category_Comics',\n",
    " 'main_category_Crafts',\n",
    " 'main_category_Dance',\n",
    " 'main_category_Design',\n",
    " 'main_category_Fashion',\n",
    " 'main_category_Film & Video',\n",
    " 'main_category_Food',\n",
    " 'main_category_Games',\n",
    " 'main_category_Journalism',\n",
    " 'main_category_Music',\n",
    " 'main_category_Photography',\n",
    " 'main_category_Publishing',\n",
    " 'main_category_Technology',\n",
    " 'main_category_Theater',\n",
    " 'currency_AUD',\n",
    " 'currency_CAD',\n",
    " 'currency_CHF',\n",
    " 'currency_DKK',\n",
    " 'currency_EUR',\n",
    " 'currency_GBP',\n",
    " 'currency_HKD',\n",
    " 'currency_JPY',\n",
    " 'currency_MXN',\n",
    " 'currency_NOK',\n",
    " 'currency_NZD',\n",
    " 'currency_SEK',\n",
    " 'currency_SGD',\n",
    " 'currency_USD',\n",
    " 'country_AT',\n",
    " 'country_AU',\n",
    " 'country_BE',\n",
    " 'country_CA',\n",
    " 'country_CH',\n",
    " 'country_DE',\n",
    " 'country_DK',\n",
    " 'country_ES',\n",
    " 'country_FR',\n",
    " 'country_GB',\n",
    " 'country_HK',\n",
    " 'country_IE',\n",
    " 'country_IT',\n",
    " 'country_JP',\n",
    " 'country_LU',\n",
    " 'country_MX',\n",
    " 'country_N,0\"',\n",
    " 'country_NL',\n",
    " 'country_NO',\n",
    " 'country_NZ',\n",
    " 'country_SE',\n",
    " 'country_SG',\n",
    " 'country_US']\n",
    "\n",
    "train_dep=train[ks_cont_vars]\n",
    "train_ind=train['state']\n",
    "\n",
    "\n",
    "test_dep=test[ks_cont_vars]\n",
    "test_ind=test['state']"
   ]
  },
  {
   "cell_type": "code",
   "execution_count": 63,
   "metadata": {},
   "outputs": [],
   "source": [
    "\n",
    "def random_forest_classifier(features, target):\n",
    "    \"\"\"\n",
    "    To train the random forest classifier with features and target data\n",
    "    :param features:\n",
    "    :param target:\n",
    "    :return: trained random forest classifier\n",
    "    \"\"\"\n",
    "    clf = RandomForestClassifier(n_estimators=50,criterion='gini' ,max_depth=20, max_features=2)\n",
    "    clf.fit(features, target)\n",
    "    return clf\n"
   ]
  },
  {
   "cell_type": "code",
   "execution_count": 64,
   "metadata": {},
   "outputs": [],
   "source": [
    "\n",
    "trained_model_RF= random_forest_classifier(train_ind[features], train_dep[response])\n"
   ]
  },
  {
   "cell_type": "markdown",
   "metadata": {},
   "source": [
    "Model Predictions"
   ]
  },
  {
   "cell_type": "code",
   "execution_count": null,
   "metadata": {},
   "outputs": [],
   "source": [
    "# Predict the on the train_data\n",
    "test_ind[\"Pred_state_RF\"] = trained_model_RF.predict(test_ind[features])\n",
    "\n",
    "# Predict the on the train_data\n",
    "train_ind[\"Pred_state_RF\"] = trained_model_RF.predict(train_ind[features])\n",
    "\n",
    "# Predict the on the train_data\n",
    "kick_projects_ip[\"Pred_state_RF\"] = trained_model_RF.predict(kick_projects_ip_scaled_ftrs)"
   ]
  },
  {
   "cell_type": "markdown",
   "metadata": {},
   "source": [
    "Model prediction results"
   ]
  },
  {
   "cell_type": "code",
   "execution_count": null,
   "metadata": {},
   "outputs": [],
   "source": [
    "# Train and Test Accuracy\n",
    "print (\"Train Accuracy :: \", accuracy_score(train_dep[response], trained_model_RF.predict(train_ind[features])))\n",
    "print (\"Test Accuracy  :: \", accuracy_score(test_dep[response], trained_model_RF.predict(test_ind[features])))\n",
    "print (\"Complete Accuracy  :: \", accuracy_score(kick_projects_ip[response], trained_model_RF.predict(kick_projects_ip_scaled_ftrs)))\n",
    "print (\" Confusion matrix of complete data is\", confusion_matrix(kick_projects_ip[response],kick_projects_ip[\"Pred_state_RF\"]))"
   ]
  },
  {
   "cell_type": "markdown",
   "metadata": {},
   "source": [
    "Train set for LGBM Classifier"
   ]
  },
  {
   "cell_type": "code",
   "execution_count": null,
   "metadata": {},
   "outputs": [],
   "source": [
    "\n",
    "\n",
    "clf_lgbm = LGBMClassifier(\n",
    "        n_estimators=300,\n",
    "        num_leaves=15,\n",
    "        colsample_bytree=.8,\n",
    "        subsample=.8,\n",
    "        max_depth=7,\n",
    "        reg_alpha=.1,\n",
    "        reg_lambda=.1,\n",
    "        min_split_gain=.01\n",
    "    )\n",
    "\n"
   ]
  },
  {
   "cell_type": "markdown",
   "metadata": {},
   "source": [
    "#Fitting the LGBM Classifier"
   ]
  },
  {
   "cell_type": "code",
   "execution_count": 69,
   "metadata": {},
   "outputs": [],
   "source": [
    "clf_lgbm.fit(train_ind, \n",
    "        train_dep,\n",
    "        eval_set= [(X_train, Y_train), (X_test, Y_test)], \n",
    "        eval_metric='auc', \n",
    "        verbose=0, \n",
    "        early_stopping_rounds=30\n",
    "       )\n"
   ]
  },
  {
   "cell_type": "markdown",
   "metadata": {},
   "source": [
    "LGBM Results"
   ]
  },
  {
   "cell_type": "code",
   "execution_count": null,
   "metadata": {},
   "outputs": [],
   "source": [
    "clf_lgbm"
   ]
  }
 ],
 "metadata": {
  "kernelspec": {
   "display_name": "Python 3",
   "language": "python",
   "name": "python3"
  },
  "language_info": {
   "codemirror_mode": {
    "name": "ipython",
    "version": 3
   },
   "file_extension": ".py",
   "mimetype": "text/x-python",
   "name": "python",
   "nbconvert_exporter": "python",
   "pygments_lexer": "ipython3",
   "version": "3.7.0"
  }
 },
 "nbformat": 4,
 "nbformat_minor": 2
}
