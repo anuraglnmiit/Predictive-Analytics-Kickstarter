{
 "cells": [
  {
   "cell_type": "markdown",
   "metadata": {},
   "source": [
    "# Problem Statement\n",
    "\n",
    "Kickstarter is a popular crowdfunding platform. In the exploratory analysis previously done the factors affecting the success of a crowdfunding campaign. Here the goal is to predict if a kickstarter project will be successful or will fail before its actual deadline."
   ]
  },
  {
   "cell_type": "code",
   "execution_count": null,
   "metadata": {},
   "outputs": [],
   "source": [
    "#Setting up required libraries and packages"
   ]
  },
  {
   "cell_type": "code",
   "execution_count": 100,
   "metadata": {},
   "outputs": [
    {
     "data": {
      "text/html": [
       "<script type=\"text/javascript\">window.PlotlyConfig = {MathJaxConfig: 'local'};</script><script type=\"text/javascript\">if (window.MathJax) {MathJax.Hub.Config({SVG: {font: \"STIX-Web\"}});}</script><script>requirejs.config({paths: { 'plotly': ['https://cdn.plot.ly/plotly-latest.min']},});if(!window._Plotly) {require(['plotly'],function(plotly) {window._Plotly=plotly;});}</script>"
      ],
      "text/vnd.plotly.v1+html": [
       "<script type=\"text/javascript\">window.PlotlyConfig = {MathJaxConfig: 'local'};</script><script type=\"text/javascript\">if (window.MathJax) {MathJax.Hub.Config({SVG: {font: \"STIX-Web\"}});}</script><script>requirejs.config({paths: { 'plotly': ['https://cdn.plot.ly/plotly-latest.min']},});if(!window._Plotly) {require(['plotly'],function(plotly) {window._Plotly=plotly;});}</script>"
      ]
     },
     "metadata": {},
     "output_type": "display_data"
    }
   ],
   "source": [
    "import numpy as np\n",
    "import pandas as pd\n",
    "import os\n",
    "from datetime import datetime\n",
    "import time\n",
    "from sklearn.model_selection import train_test_split\n",
    "from sklearn.linear_model import LogisticRegression\n",
    "from sklearn import preprocessing\n",
    "from sklearn.ensemble import RandomForestClassifier\n",
    "from sklearn.metrics import accuracy_score\n",
    "from sklearn.metrics import confusion_matrix\n",
    "from sklearn.metrics import roc_auc_score\n",
    "from sklearn.metrics import classification_report\n",
    "from sklearn import preprocessing\n",
    "import string\n",
    "import seaborn as sns\n",
    "import matplotlib.pyplot as plt\n",
    "import plotly.tools as tls\n",
    "import plotly.offline as py\n",
    "from plotly.offline import init_notebook_mode, iplot, plot\n",
    "import plotly.graph_objs as go\n",
    "init_notebook_mode(connected=True)\n",
    "import warnings\n",
    "from collections import Counter"
   ]
  },
  {
   "cell_type": "markdown",
   "metadata": {},
   "source": [
    "# Data Overview\n",
    "\n",
    "There are a combined data of 700,000+ projects from two data sources.\n",
    "Below is the brief summary of the explanatory variables\n",
    "\n",
    "ID                :  It is the unique identifier for a project.\n",
    "\n",
    "Name              :  Name of the project seeking crowdfunding.\n",
    "\n",
    "Category          :  Category in which the project falls\n",
    "\n",
    "Main Category     :  The high level category on which the project falls\n",
    "\n",
    "Currency          :  Self - Explanatory.\n",
    "\n",
    "Deadline          :  The date by which the project tends to seek crowdfunding for the campaign. \n",
    "\n",
    "Goal              :  Amount the crowdfunding campaign seeks for itself.\n",
    "\n",
    "Launched          :  The date on which the project is launched.\n",
    "\n",
    "Pledged           :  The amount that was pledged by the backers of the campaign.\n",
    "\n",
    "State             :  The final state, determining whether the project was successful, unsuccessful, cancelled or failed.\n",
    "\n",
    "Backers           :  The count of the number of users backing the project.\n",
    "\n",
    "Country           :  The country of origination\n",
    "\n",
    "USD Pledged       :  The amount in US Dollor pledged for the project."
   ]
  },
  {
   "cell_type": "code",
   "execution_count": 59,
   "metadata": {},
   "outputs": [],
   "source": [
    "# Importing Data\n",
    "df_kick_201801 = pd.read_csv(\"ks-projects-201801.csv\",encoding = \"utf-8\",low_memory=False)\n",
    "df_kick_201612 = pd.read_csv(\"ks-projects-201612.csv\",encoding = \"utf-8\",low_memory=False)"
   ]
  },
  {
   "cell_type": "markdown",
   "metadata": {},
   "source": [
    "Checking the structure of the of the two datasets"
   ]
  },
  {
   "cell_type": "code",
   "execution_count": 16,
   "metadata": {},
   "outputs": [
    {
     "name": "stdout",
     "output_type": "stream",
     "text": [
      "(378661, 15)\n",
      "(323750, 17)\n"
     ]
    }
   ],
   "source": [
    "print(df_kick_201801.shape)\n",
    "print(df_kick_201612.shape)"
   ]
  },
  {
   "cell_type": "markdown",
   "metadata": {},
   "source": [
    "Checking the relevant columns and merge the two datasets,\n",
    "df_kick_main is the main workset for the analysis"
   ]
  },
  {
   "cell_type": "code",
   "execution_count": 103,
   "metadata": {},
   "outputs": [],
   "source": [
    "#df_kick_201612_Workset=df_kick_201612.iloc[:,0:12]\n",
    "df_kick_main=df_kick_201801.iloc[:,0:12]\n",
    "#df_kick_main = df_kick_201612_Workset.append(df_kick_201801_Workset)"
   ]
  },
  {
   "cell_type": "markdown",
   "metadata": {},
   "source": [
    "Aggregated Dataset"
   ]
  },
  {
   "cell_type": "code",
   "execution_count": 104,
   "metadata": {},
   "outputs": [
    {
     "name": "stdout",
     "output_type": "stream",
     "text": [
      "<class 'pandas.core.frame.DataFrame'>\n",
      "RangeIndex: 378661 entries, 0 to 378660\n",
      "Data columns (total 12 columns):\n",
      "ID               378661 non-null int64\n",
      "name             378657 non-null object\n",
      "category         378661 non-null object\n",
      "main_category    378661 non-null object\n",
      "currency         378661 non-null object\n",
      "deadline         378661 non-null object\n",
      "goal             378661 non-null float64\n",
      "launched         378661 non-null object\n",
      "pledged          378661 non-null float64\n",
      "state            378661 non-null object\n",
      "backers          378661 non-null int64\n",
      "country          378661 non-null object\n",
      "dtypes: float64(2), int64(2), object(8)\n",
      "memory usage: 34.7+ MB\n"
     ]
    }
   ],
   "source": [
    "df_kick_main.shape\n",
    "df_kick_main.info()"
   ]
  },
  {
   "cell_type": "markdown",
   "metadata": {},
   "source": [
    "Segregating the variables as categorical and constinuous"
   ]
  },
  {
   "cell_type": "code",
   "execution_count": 72,
   "metadata": {},
   "outputs": [],
   "source": [
    "df_kick_main.columns = ['ID','name','category','main_category','currency','deadline','goal','launched','pledged','state','backers','country']\n",
    "\n",
    "ks_cat_vars=[ 'category', 'main_category', 'currency','country']\n",
    "ks_cont_vars=['goal', 'pledged', 'backers','pledged']"
   ]
  },
  {
   "cell_type": "markdown",
   "metadata": {},
   "source": [
    "Checking correlation among the continous variables defined above. It can be seen that pledged (USD amount) and backers have high correlation > 0.75. It is expected behavior as more backers would mean more amount pledged.\n"
   ]
  },
  {
   "cell_type": "code",
   "execution_count": 91,
   "metadata": {},
   "outputs": [
    {
     "data": {
      "text/html": [
       "<div>\n",
       "<style scoped>\n",
       "    .dataframe tbody tr th:only-of-type {\n",
       "        vertical-align: middle;\n",
       "    }\n",
       "\n",
       "    .dataframe tbody tr th {\n",
       "        vertical-align: top;\n",
       "    }\n",
       "\n",
       "    .dataframe thead th {\n",
       "        text-align: right;\n",
       "    }\n",
       "</style>\n",
       "<table border=\"1\" class=\"dataframe\">\n",
       "  <thead>\n",
       "    <tr style=\"text-align: right;\">\n",
       "      <th></th>\n",
       "    </tr>\n",
       "  </thead>\n",
       "  <tbody>\n",
       "  </tbody>\n",
       "</table>\n",
       "</div>"
      ],
      "text/plain": [
       "Empty DataFrame\n",
       "Columns: []\n",
       "Index: []"
      ]
     },
     "execution_count": 91,
     "metadata": {},
     "output_type": "execute_result"
    }
   ],
   "source": [
    "df_kick_main[ks_cont_vars]"
   ]
  },
  {
   "cell_type": "code",
   "execution_count": 105,
   "metadata": {},
   "outputs": [
    {
     "data": {
      "text/plain": [
       "<matplotlib.image.AxesImage at 0x17012ebfb70>"
      ]
     },
     "execution_count": 105,
     "metadata": {},
     "output_type": "execute_result"
    },
    {
     "data": {
      "image/png": "[encoded data removed]",
      "text/plain": [
       "<Figure size 288x288 with 1 Axes>"
      ]
     },
     "metadata": {
      "needs_background": "light"
     },
     "output_type": "display_data"
    }
   ],
   "source": [
    "import matplotlib.pyplot as plt\n",
    "\n",
    "plt.matshow(df_kick_main[ks_cont_vars].corr())"
   ]
  },
  {
   "cell_type": "markdown",
   "metadata": {},
   "source": [
    "Filtering only for successful and failed projects for subsequent EDA"
   ]
  },
  {
   "cell_type": "code",
   "execution_count": 106,
   "metadata": {},
   "outputs": [
    {
     "name": "stdout",
     "output_type": "stream",
     "text": [
      "(331675, 12)\n"
     ]
    },
    {
     "name": "stderr",
     "output_type": "stream",
     "text": [
      "C:\\ProgramData\\Anaconda3\\lib\\site-packages\\ipykernel_launcher.py:3: SettingWithCopyWarning:\n",
      "\n",
      "\n",
      "A value is trying to be set on a copy of a slice from a DataFrame.\n",
      "Try using .loc[row_indexer,col_indexer] = value instead\n",
      "\n",
      "See the caveats in the documentation: http://pandas.pydata.org/pandas-docs/stable/indexing.html#indexing-view-versus-copy\n",
      "\n"
     ]
    }
   ],
   "source": [
    "kick_projects = df_kick_main[(df_kick_main['state'] == 'failed') | (df_kick_main['state'] == 'successful')]\n",
    "#converting 'successful' state to 1 and failed to 0\n",
    "kick_projects['state'] = (kick_projects['state'] =='successful').astype(int)\n",
    "print(kick_projects.shape)"
   ]
  },
  {
   "cell_type": "code",
   "execution_count": 107,
   "metadata": {},
   "outputs": [
    {
     "data": {
      "text/plain": [
       "main_category  state\n",
       "Art            0        14131\n",
       "               1        11510\n",
       "Comics         0         4036\n",
       "               1         5842\n",
       "Crafts         0         5703\n",
       "               1         2115\n",
       "Dance          0         1235\n",
       "               1         2338\n",
       "Design         0        14814\n",
       "               1        10550\n",
       "Fashion        0        14182\n",
       "               1         5593\n",
       "Film & Video   0        32904\n",
       "               1        23623\n",
       "Food           0        15969\n",
       "               1         6085\n",
       "Games          0        16003\n",
       "               1        12518\n",
       "Journalism     0         3137\n",
       "               1         1012\n",
       "Music          0        21752\n",
       "               1        24197\n",
       "Photography    0         6384\n",
       "               1         3305\n",
       "Publishing     0        23145\n",
       "               1        12300\n",
       "Technology     0        20616\n",
       "               1         6434\n",
       "Theater        0         3708\n",
       "               1         6534\n",
       "dtype: int64"
      ]
     },
     "execution_count": 107,
     "metadata": {},
     "output_type": "execute_result"
    }
   ],
   "source": [
    "#checking distribution of projects across various main categories\n",
    "kick_projects.groupby(['main_category','state']).size()\n",
    "#kick_projects.groupby(['category','state']).size()"
   ]
  },
  {
   "cell_type": "markdown",
   "metadata": {},
   "source": [
    "To visualise the distribution of the original states, the original dataset is used 'df_kick_main' is used.\n",
    "To make more sense of the state distributions the percentages of the states are visualised."
   ]
  },
  {
   "cell_type": "code",
   "execution_count": 108,
   "metadata": {},
   "outputs": [
    {
     "name": "stdout",
     "output_type": "stream",
     "text": [
      "State Percentual in %: \n",
      "failed        52.22\n",
      "successful    35.38\n",
      "canceled      10.24\n",
      "undefined      0.94\n",
      "live           0.74\n",
      "suspended      0.49\n",
      "Name: state, dtype: float64\n"
     ]
    },
    {
     "data": {
      "application/vnd.plotly.v1+json": {
       "config": {
        "linkText": "Export to plot.ly",
        "plotlyServerURL": "https://plot.ly",
        "showLink": false
       },
       "data": [
        {
         "labels": [
          "failed",
          "successful",
          "canceled",
          "undefined",
          "live",
          "suspended"
         ],
         "marker": {
          "colors": [
           "red"
          ]
         },
         "type": "pie",
         "uid": "37abe880-f064-4e06-a7c7-74f8795aa3c4",
         "values": [
          52.22,
          35.38,
          10.24,
          0.94,
          0.74,
          0.49
         ]
        }
       ],
       "layout": {
        "legend": {
         "orientation": "h"
        },
        "title": {
         "text": "Distribuition of States"
        }
       }
      },
      "text/html": [
       "<div id=\"d6990b07-b3ad-47b4-a3ea-80faad9c54f1\" style=\"height: 525px; width: 100%;\" class=\"plotly-graph-div\"></div><script type=\"text/javascript\">require([\"plotly\"], function(Plotly) { window.PLOTLYENV=window.PLOTLYENV || {};window.PLOTLYENV.BASE_URL=\"https://plot.ly\";Plotly.newPlot(\"d6990b07-b3ad-47b4-a3ea-80faad9c54f1\", [{\"labels\": [\"failed\", \"successful\", \"canceled\", \"undefined\", \"live\", \"suspended\"], \"marker\": {\"colors\": [\"red\"]}, \"values\": [52.22, 35.38, 10.24, 0.94, 0.74, 0.49], \"type\": \"pie\", \"uid\": \"37abe880-f064-4e06-a7c7-74f8795aa3c4\"}], {\"legend\": {\"orientation\": \"h\"}, \"title\": {\"text\": \"Distribuition of States\"}}, {\"showLink\": false, \"linkText\": \"Export to plot.ly\", \"plotlyServerURL\": \"https://plot.ly\"})});</script><script type=\"text/javascript\">window.addEventListener(\"resize\", function(){window._Plotly.Plots.resize(document.getElementById(\"d6990b07-b3ad-47b4-a3ea-80faad9c54f1\"));});</script>"
      ],
      "text/vnd.plotly.v1+html": [
       "<div id=\"d6990b07-b3ad-47b4-a3ea-80faad9c54f1\" style=\"height: 525px; width: 100%;\" class=\"plotly-graph-div\"></div><script type=\"text/javascript\">require([\"plotly\"], function(Plotly) { window.PLOTLYENV=window.PLOTLYENV || {};window.PLOTLYENV.BASE_URL=\"https://plot.ly\";Plotly.newPlot(\"d6990b07-b3ad-47b4-a3ea-80faad9c54f1\", [{\"labels\": [\"failed\", \"successful\", \"canceled\", \"undefined\", \"live\", \"suspended\"], \"marker\": {\"colors\": [\"red\"]}, \"values\": [52.22, 35.38, 10.24, 0.94, 0.74, 0.49], \"type\": \"pie\", \"uid\": \"37abe880-f064-4e06-a7c7-74f8795aa3c4\"}], {\"legend\": {\"orientation\": \"h\"}, \"title\": {\"text\": \"Distribuition of States\"}}, {\"showLink\": false, \"linkText\": \"Export to plot.ly\", \"plotlyServerURL\": \"https://plot.ly\"})});</script><script type=\"text/javascript\">window.addEventListener(\"resize\", function(){window._Plotly.Plots.resize(document.getElementById(\"d6990b07-b3ad-47b4-a3ea-80faad9c54f1\"));});</script>"
      ]
     },
     "metadata": {},
     "output_type": "display_data"
    }
   ],
   "source": [
    "percentual_sucess = round(df_kick_main[\"state\"].value_counts() / len(df_kick_main[\"state\"]) * 100,2)\n",
    "\n",
    "print(\"State Percentual in %: \")\n",
    "print(percentual_sucess)\n",
    "\n",
    "state = round(df_kick_main[\"state\"].value_counts() / len(df_kick_main[\"state\"]) * 100,2)\n",
    "\n",
    "labels = list(state.index)\n",
    "values = list(state.values)\n",
    "\n",
    "trace1 = go.Pie(labels=labels, values=values, marker=dict(colors=['red']))\n",
    "\n",
    "layout = go.Layout(title='Distribuition of States', legend=dict(orientation=\"h\"));\n",
    "\n",
    "fig = go.Figure(data=[trace1], layout=layout)\n",
    "iplot(fig)"
   ]
  },
  {
   "cell_type": "markdown",
   "metadata": {},
   "source": [
    "In the subsequent three plots (in a defined gridline)\n",
    "The log scaled goal and pledged amount is plotted for both failed and sucessful projects"
   ]
  },
  {
   "cell_type": "code",
   "execution_count": 124,
   "metadata": {},
   "outputs": [
    {
     "name": "stdout",
     "output_type": "stream",
     "text": [
      "This is the format of your plot grid:\n",
      "[ (1,1) x1,y1           -      ]\n",
      "[ (2,1) x2,y2 ]  [ (2,2) x3,y3 ]\n",
      "\n"
     ]
    }
   ],
   "source": [
    "df_failed = df_kick_main[df_kick_main[\"state\"] == \"failed\"]\n",
    "df_sucess = df_kick_main[df_kick_main[\"state\"] == \"successful\"]\n",
    "\n",
    "#First plot\n",
    "trace0 = go.Histogram(\n",
    "    x= np.log(df_kick_main.goal + 1),\n",
    "    histnorm='probability', showlegend=False,\n",
    "    xbins=dict(\n",
    "        start=-5.0,\n",
    "        end=19.0,\n",
    "        size=1),\n",
    "    autobiny=True)\n",
    "\n",
    "#Second plot\n",
    "trace1 = go.Histogram(\n",
    "    x = np.log(df_kick_main.pledged + 1),\n",
    "    histnorm='probability', showlegend=False,\n",
    "    xbins=dict(\n",
    "        start=-1.0,\n",
    "        end=17.0,\n",
    "        size=1))\n",
    "\n",
    "# Add histogram data\n",
    "x1 = np.log(df_failed['goal']+1)\n",
    "x2 = np.log(df_sucess[\"goal\"]+1)\n",
    "\n",
    "trace3 = go.Histogram(\n",
    "    x=x1,\n",
    "    opacity=0.60, nbinsx=30, name='Goals Failed', histnorm='probability'\n",
    ")\n",
    "trace4 = go.Histogram(\n",
    "    x=x2,\n",
    "    opacity=0.60, nbinsx=30, name='Goals Sucessful', histnorm='probability'\n",
    ")\n",
    "\n",
    "\n",
    "data = [trace0, trace1, trace3, trace4]\n",
    "layout = go.Layout(barmode='overlay')\n",
    "\n",
    "#Creating the grid\n",
    "fig = tls.make_subplots(rows=2, cols=2, specs=[ [{'colspan': 2}, None], [{}, {}]],\n",
    "                          subplot_titles=('Failed and Sucessful Projects',\n",
    "                                          'Goal','Pledged'))\n",
    "\n",
    "#setting the figs\n",
    "fig.append_trace(trace0, 2, 1)\n",
    "fig.append_trace(trace1, 2, 2)\n",
    "fig.append_trace(trace3, 1, 1)\n",
    "fig.append_trace(trace4, 1, 1)\n",
    "\n",
    "#fig['layout'].update(title=\"Distribuitions\",\n",
    " #                    height=500, width=900, barmode='overlay')\n",
    "#iplot(fig)"
   ]
  },
  {
   "cell_type": "markdown",
   "metadata": {},
   "source": [
    "#Feature Engineering\n",
    "\n",
    "The  below code snippet does the following:\n",
    "\n",
    "Part 1 : Extraction of components like year, month, hour from launch date.\n",
    "Part 2 : Extraction of components like year, month, time to deadline from deadline date.\n",
    "Part 3 : Calculating project duration"
   ]
  },
  {
   "cell_type": "code",
   "execution_count": 120,
   "metadata": {},
   "outputs": [],
   "source": [
    "df_kick_main['launched'] = pd.to_datetime(df_kick_main['launched'])\n",
    "df_kick_main['laun_month_year'] = df_kick_main['launched'].dt.to_period(\"M\")\n",
    "df_kick_main['laun_year'] = df_kick_main['launched'].dt.to_period(\"A\")\n",
    "df_kick_main['laun_hour'] = df_kick_main['launched'].dt.hour\n",
    "\n",
    "df_kick_main['deadline'] = pd.to_datetime(df_kick_main['deadline'])\n",
    "df_kick_main['dead_month_year'] = df_kick_main['deadline'].dt.to_period(\"M\")\n",
    "df_kick_main['dead_year'] = df_kick_main['launched'].dt.to_period(\"A\")\n",
    "\n",
    "\n",
    "#Creating a new columns with Campaign total months\n",
    "df_kick_main['time_campaign'] = df_kick_main['dead_month_year'] - df_kick_main['laun_month_year']\n",
    "df_kick_main['time_campaign'] = df_kick_main['time_campaign'].astype(int)"
   ]
  },
  {
   "cell_type": "markdown",
   "metadata": {},
   "source": [
    "The crucial piece of visualisation is how project duration affects the state of the project.\n",
    "The duration is calulated as time campaign above."
   ]
  },
  {
   "cell_type": "code",
   "execution_count": 121,
   "metadata": {},
   "outputs": [
    {
     "data": {
      "image/png": "[encoded data removed]",
      "text/plain": [
       "<Figure size 720x432 with 1 Axes>"
      ]
     },
     "metadata": {
      "needs_background": "light"
     },
     "output_type": "display_data"
    },
    {
     "name": "stdout",
     "output_type": "stream",
     "text": [
      "Descriptions of Campaign Time x State\n",
      "state          canceled  failed  live  successful  suspended  undefined\n",
      "time_campaign                                                          \n",
      "0                  2044   12276    62       12494        153        280\n",
      "1                 28144  144494  1785      102102       1251       2710\n",
      "2                  8132   38960   948       18240        433        570\n",
      "3                   453    1976     4        1117          8          2\n",
      "4                     0      13     0           3          0          0\n"
     ]
    }
   ],
   "source": [
    "plt.figure(figsize = (10,6))\n",
    "\n",
    "ax = sns.countplot(x='time_campaign', hue='state', \n",
    "                   data=df_kick_main[df_kick_main['time_campaign'] < 10])\n",
    "ax.set_title(\"Distribuition of Campaign Time by State\", fontsize=30)\n",
    "ax.set_xlabel(\"Campaign Total Months\", fontsize=20)\n",
    "ax.set_ylabel(\"Count\", fontsize=20)\n",
    "plt.show()\n",
    "\n",
    "print(\"Descriptions of Campaign Time x State\")\n",
    "print(pd.crosstab(df_kick_main[df_kick_main['time_campaign'] < 5]['time_campaign'], df_kick_main.state))"
   ]
  },
  {
   "cell_type": "code",
   "execution_count": null,
   "metadata": {},
   "outputs": [],
   "source": []
  }
 ],
 "metadata": {
  "kernelspec": {
   "display_name": "Python 3",
   "language": "python",
   "name": "python3"
  },
  "language_info": {
   "codemirror_mode": {
    "name": "ipython",
    "version": 3
   },
   "file_extension": ".py",
   "mimetype": "text/x-python",
   "name": "python",
   "nbconvert_exporter": "python",
   "pygments_lexer": "ipython3",
   "version": "3.7.0"
  }
 },
 "nbformat": 4,
 "nbformat_minor": 2
}
