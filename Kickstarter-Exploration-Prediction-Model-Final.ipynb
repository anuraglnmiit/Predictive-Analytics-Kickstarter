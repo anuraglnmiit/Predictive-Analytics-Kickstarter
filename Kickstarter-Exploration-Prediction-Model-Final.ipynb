{
 "cells": [
  {
   "cell_type": "markdown",
   "metadata": {},
   "source": [
    "# Problem Statement\n",
    "\n",
    "Kickstarter is a popular crowdfunding platform. In the exploratory analysis previously done the factors affecting the success of a crowdfunding campaign. Here the goal is to predict if a kickstarter project will be successful or will fail before its actual deadline."
   ]
  },
  {
   "cell_type": "code",
   "execution_count": null,
   "metadata": {},
   "outputs": [],
   "source": [
    "#Setting up required libraries and packages"
   ]
  },
  {
   "cell_type": "code",
   "execution_count": null,
   "metadata": {},
   "outputs": [],
   "source": [
    "import numpy as np\n",
    "import pandas as pd\n",
    "import os\n",
    "from datetime import datetime\n",
    "import time\n",
    "from sklearn.model_selection import train_test_split\n",
    "from sklearn.linear_model import LogisticRegression\n",
    "from sklearn import preprocessing\n",
    "from sklearn.ensemble import RandomForestClassifier\n",
    "from sklearn.metrics import accuracy_score\n",
    "from sklearn.metrics import confusion_matrix\n",
    "from sklearn.metrics import roc_auc_score\n",
    "from sklearn.metrics import classification_report\n",
    "from sklearn import preprocessing\n",
    "import string"
   ]
  },
  {
   "cell_type": "markdown",
   "metadata": {},
   "source": [
    "# Data Overview\n",
    "\n",
    "There are a combined data of 700,000+ projects from two data sources.\n",
    "Below is the brief summary of the explanatory variables\n",
    "\n",
    "ID                :  It is the unique identifier for a project.\n",
    "\n",
    "Name              :  Name of the project seeking crowdfunding.\n",
    "\n",
    "Category          :  Category in which the project falls\n",
    "\n",
    "Main Category     :  The high level category on which the project falls\n",
    "\n",
    "Currency          :  Self - Explanatory.\n",
    "\n",
    "Deadline          :  The date by which the project tends to seek crowdfunding for the campaign. \n",
    "\n",
    "Goal              :  Amount the crowdfunding campaign seeks for itself.\n",
    "\n",
    "Launched          :  The date on which the project is launched.\n",
    "\n",
    "Pledged           :  The amount that was pledged by the backers of the campaign.\n",
    "\n",
    "State             :  The final state, determining whether the project was successful, unsuccessful, cancelled or failed.\n",
    "\n",
    "Backers           :  The count of the number of users backing the project.\n",
    "\n",
    "Country           :  The country of origination\n",
    "\n",
    "USD Pledged       :  The amount in US Dollor pledged for the project."
   ]
  },
  {
   "cell_type": "code",
   "execution_count": 59,
   "metadata": {},
   "outputs": [],
   "source": [
    "# Importing Data\n",
    "df_kick_201801 = pd.read_csv(\"ks-projects-201801.csv\",encoding = \"utf-8\",low_memory=False)\n",
    "df_kick_201612 = pd.read_csv(\"ks-projects-201612.csv\",encoding = \"utf-8\",low_memory=False)"
   ]
  },
  {
   "cell_type": "markdown",
   "metadata": {},
   "source": [
    "Checking the structure of the of the two datasets"
   ]
  },
  {
   "cell_type": "code",
   "execution_count": 16,
   "metadata": {},
   "outputs": [
    {
     "name": "stdout",
     "output_type": "stream",
     "text": [
      "(378661, 15)\n",
      "(323750, 17)\n"
     ]
    }
   ],
   "source": [
    "print(df_kick_201801.shape)\n",
    "print(df_kick_201612.shape)"
   ]
  },
  {
   "cell_type": "markdown",
   "metadata": {},
   "source": [
    "Checking the relevant columns and merge the two datasets,\n",
    "df_kick_main is the main workset for the analysis"
   ]
  },
  {
   "cell_type": "code",
   "execution_count": 19,
   "metadata": {},
   "outputs": [],
   "source": [
    "df_kick_201612_Workset=df_kick_201612.iloc[:,0:12]\n",
    "df_kick_201801_Workset=df_kick_201801.iloc[:,0:12]\n",
    "#df_kick_main = df_kick_201612_Workset.append(df_kick_201801_Workset)"
   ]
  },
  {
   "cell_type": "markdown",
   "metadata": {},
   "source": [
    "Aggregated Dataset"
   ]
  },
  {
   "cell_type": "code",
   "execution_count": 57,
   "metadata": {},
   "outputs": [],
   "source": [
    "df_kick_main.shape\n",
    "df_kick_main.info()"
   ]
  },
  {
   "cell_type": "code",
   "execution_count": null,
   "metadata": {},
   "outputs": [],
   "source": [
    "Data Frame Shape\n",
    "\n",
    "(702411, 12)\n",
    "\n",
    "Data Frame Info\n",
    "\n",
    "<class 'pandas.core.frame.DataFrame'>\n",
    "RangeIndex: 702411 entries, 0 to 702410\n",
    "Data columns (total 12 columns):\n",
    "ID                702411 non-null int64\n",
    "name              702403 non-null object\n",
    "category          702406 non-null object\n",
    "main_category     702411 non-null object\n",
    "currency          702411 non-null object\n",
    "deadline          702411 non-null object\n",
    "goal              702411 non-null object\n",
    "launched          702411 non-null object\n",
    "pledged           702411 non-null object\n",
    "state             702411 non-null object\n",
    "backers           702411 non-null object\n",
    "country           702411 non-null object\n",
    "dtypes: int64(1), object(11)\n",
    "memory usage: 64.3+ MB"
   ]
  },
  {
   "cell_type": "markdown",
   "metadata": {},
   "source": [
    "Segregating the variables as categorical and constinuous"
   ]
  },
  {
   "cell_type": "code",
   "execution_count": 72,
   "metadata": {},
   "outputs": [],
   "source": [
    "df_kick_main.columns = ['ID','name','category','main_category','currency','deadline','goal','launched','pledged','state','backers','country']\n",
    "\n",
    "ks_cat_vars=[ 'category', 'main_category', 'currency','country']\n",
    "ks_cont_vars=['goal', 'pledged', 'backers','pledged']"
   ]
  },
  {
   "cell_type": "markdown",
   "metadata": {},
   "source": [
    "Checking correlation among the continous variables defined above. It can be seen that pledged (USD amount) and backers have high correlation > 0.75. It is expected behavior as more backers would mean more amount pledged.\n"
   ]
  },
  {
   "cell_type": "code",
   "execution_count": 91,
   "metadata": {},
   "outputs": [
    {
     "data": {
      "text/html": [
       "<div>\n",
       "<style scoped>\n",
       "    .dataframe tbody tr th:only-of-type {\n",
       "        vertical-align: middle;\n",
       "    }\n",
       "\n",
       "    .dataframe tbody tr th {\n",
       "        vertical-align: top;\n",
       "    }\n",
       "\n",
       "    .dataframe thead th {\n",
       "        text-align: right;\n",
       "    }\n",
       "</style>\n",
       "<table border=\"1\" class=\"dataframe\">\n",
       "  <thead>\n",
       "    <tr style=\"text-align: right;\">\n",
       "      <th></th>\n",
       "    </tr>\n",
       "  </thead>\n",
       "  <tbody>\n",
       "  </tbody>\n",
       "</table>\n",
       "</div>"
      ],
      "text/plain": [
       "Empty DataFrame\n",
       "Columns: []\n",
       "Index: []"
      ]
     },
     "execution_count": 91,
     "metadata": {},
     "output_type": "execute_result"
    }
   ],
   "source": [
    "df_kick_main[ks_cont_vars]"
   ]
  },
  {
   "cell_type": "code",
   "execution_count": 92,
   "metadata": {},
   "outputs": [],
   "source": [
    "import matplotlib.pyplot as plt\n",
    "\n",
    "plt.matshow(df_kick_main[ks_cont_vars].corr())"
   ]
  },
  {
   "cell_type": "markdown",
   "metadata": {},
   "source": [
    "Filtering only for successful and failed projects for subsequent EDA"
   ]
  },
  {
   "cell_type": "code",
   "execution_count": 93,
   "metadata": {},
   "outputs": [
    {
     "name": "stdout",
     "output_type": "stream",
     "text": [
      "(612977, 12)\n"
     ]
    },
    {
     "name": "stderr",
     "output_type": "stream",
     "text": [
      "C:\\ProgramData\\Anaconda3\\lib\\site-packages\\ipykernel_launcher.py:4: SettingWithCopyWarning: \n",
      "A value is trying to be set on a copy of a slice from a DataFrame.\n",
      "Try using .loc[row_indexer,col_indexer] = value instead\n",
      "\n",
      "See the caveats in the documentation: http://pandas.pydata.org/pandas-docs/stable/indexing.html#indexing-view-versus-copy\n",
      "  after removing the cwd from sys.path.\n"
     ]
    }
   ],
   "source": [
    "kick_projects = df_kick_main[(df_kick_main['state'] == 'failed') | (df_kick_main['state'] == 'successful')]\n",
    "#converting 'successful' state to 1 and failed to 0\n",
    "kick_projects['state'] = (kick_projects['state'] =='successful').astype(int)\n",
    "print(kick_projects.shape)"
   ]
  },
  {
   "cell_type": "code",
   "execution_count": 94,
   "metadata": {},
   "outputs": [
    {
     "data": {
      "text/plain": [
       "main_category  state\n",
       "Art            0        26223\n",
       "               1        21164\n",
       "Comics         0         7442\n",
       "               1        10341\n",
       "Crafts         0        10333\n",
       "               1         3786\n",
       "Dance          0         2324\n",
       "               1         4439\n",
       "Design         0        26853\n",
       "               1        18509\n",
       "Fashion        0        25682\n",
       "               1         9903\n",
       "Film & Video   0        62557\n",
       "               1        45027\n",
       "Food           0        29571\n",
       "               1        11341\n",
       "Games          0        29016\n",
       "               1        21903\n",
       "Journalism     0         5794\n",
       "               1         1881\n",
       "Music          0        40945\n",
       "               1        45960\n",
       "Photography    0        12127\n",
       "               1         6208\n",
       "Publishing     0        43065\n",
       "               1        22555\n",
       "Technology     0        36963\n",
       "               1        11496\n",
       "Theater        0         7045\n",
       "               1        12524\n",
       "dtype: int64"
      ]
     },
     "execution_count": 94,
     "metadata": {},
     "output_type": "execute_result"
    }
   ],
   "source": [
    "#checking distribution of projects across various main categories\n",
    "kick_projects.groupby(['main_category','state']).size()\n",
    "#kick_projects.groupby(['category','state']).size()"
   ]
  }
 ],
 "metadata": {
  "kernelspec": {
   "display_name": "Python 3",
   "language": "python",
   "name": "python3"
  },
  "language_info": {
   "codemirror_mode": {
    "name": "ipython",
    "version": 3
   },
   "file_extension": ".py",
   "mimetype": "text/x-python",
   "name": "python",
   "nbconvert_exporter": "python",
   "pygments_lexer": "ipython3",
   "version": "3.7.0"
  }
 },
 "nbformat": 4,
 "nbformat_minor": 2
}
